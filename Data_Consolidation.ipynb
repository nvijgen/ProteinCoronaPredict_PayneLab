{
 "cells": [
  {
   "cell_type": "markdown",
   "metadata": {
    "id": "uvddj5M3MIKx"
   },
   "source": [
    "# Data Consolidation Notebook\n",
    "\n",
    "\n",
    "\n",
    "---\n",
    "\n",
    "\n",
    "\n",
    "This notebook merges the following data:\n",
    "\n",
    "\n",
    "*   Proteomic abundance values\n",
    "*   Control protein abundance values\n",
    "*   NetSurfP protein calculations\n",
    "*   BioPython protein calculations\n",
    "*   Nanoparticle properties\n",
    "*   Wet lab experimental conditions\n",
    "\n",
    "The result is an excel file that is used in the RFR and RFC code notebooks.\n"
   ]
  },
  {
   "cell_type": "markdown",
   "metadata": {
    "id": "SzRD8waUM0IE"
   },
   "source": [
    "Import Statements\n",
    "---"
   ]
  },
  {
   "cell_type": "code",
   "execution_count": 1,
   "metadata": {
    "colab": {
     "base_uri": "https://localhost:8080/"
    },
    "executionInfo": {
     "elapsed": 17176,
     "status": "ok",
     "timestamp": 1742997270246,
     "user": {
      "displayName": "Nicole",
      "userId": "15751869298741229715"
     },
     "user_tz": 240
    },
    "id": "T4a1vBlCM_h6",
    "outputId": "0dd13520-c3c1-4846-895b-66c07e4be14b"
   },
   "outputs": [
    {
     "name": "stdout",
     "output_type": "stream",
     "text": [
      "Mounted at /content/drive\n"
     ]
    }
   ],
   "source": [
    "from google.colab import drive\n",
    "drive.mount('/content/drive')"
   ]
  },
  {
   "cell_type": "code",
   "execution_count": 2,
   "metadata": {
    "executionInfo": {
     "elapsed": 2761,
     "status": "ok",
     "timestamp": 1742997273006,
     "user": {
      "displayName": "Nicole",
      "userId": "15751869298741229715"
     },
     "user_tz": 240
    },
    "id": "R8SjlLrek--J"
   },
   "outputs": [],
   "source": [
    "import os\n",
    "import pandas as pd\n",
    "import pickle\n",
    "import openpyxl\n",
    "from sklearn.preprocessing import LabelEncoder"
   ]
  },
  {
   "cell_type": "markdown",
   "metadata": {
    "id": "FIHgCQ3gNwp7"
   },
   "source": [
    "Select Abundance Data\n",
    "---"
   ]
  },
  {
   "cell_type": "code",
   "execution_count": null,
   "metadata": {
    "executionInfo": {
     "elapsed": 1,
     "status": "ok",
     "timestamp": 1742997273009,
     "user": {
      "displayName": "Nicole",
      "userId": "15751869298741229715"
     },
     "user_tz": 240
    },
    "id": "Dy4aXP8GN28W"
   },
   "outputs": [],
   "source": [
    "# This is proteomic data from a core facility\n",
    "data_dir = '/content/drive/MyDrive/ProteinCoronaPredict_PayneLab/Input_Data/Proteomics/Abundance_Files/'\n",
    "\n",
    "# Abundance file options; these are created by Proteomic_Date_Perseus_to_df.ipynb\n",
    "bov_swiss_files = ['Bov_Swiss_Intensity _original.xlsx'] # EDIT: modify list as needed based on file name and proteomics analysis type (i.e. Top3, iBAQ, Intensity)\n",
    "#bov_swiss_trem_files = ['Bov Swiss + TrEMBLE Intensity .csv', 'Bov Swiss + TrEMBLE Top3 .csv', 'Bov Swiss + TrEMBLE iBAQ .csv']\n",
    "\n",
    "# Specify which list of abundaces file you want\n",
    "abund_files = bov_swiss_files"
   ]
  },
  {
   "cell_type": "markdown",
   "metadata": {
    "id": "sd2u5I6xPOr_"
   },
   "source": [
    "Specify file paths to the other data input files\n",
    "\n",
    "\n",
    "*   Control_ file: proteomic reference sample (FBS no NP)\n",
    "*   Biop_file: BioPython precalculations (find in input_data folder)\n",
    "*   NSP_file: NSP precalculations (find in input_data folder)\n",
    "*   NP_file: NP data corresponding to proteomic samples\n",
    "\n",
    "\n",
    "\n"
   ]
  },
  {
   "cell_type": "code",
   "execution_count": 4,
   "metadata": {
    "executionInfo": {
     "elapsed": 6,
     "status": "ok",
     "timestamp": 1742997273016,
     "user": {
      "displayName": "Nicole",
      "userId": "15751869298741229715"
     },
     "user_tz": 240
    },
    "id": "bgNzFSQgPNQ3"
   },
   "outputs": [],
   "source": [
    "controls_file = '/content/drive/MyDrive/ProteinCoronaPredict_PayneLab/Input_Data/Proteomics/Abundance_Files/controls_FBS_Intensity_v2.xlsx' # for Intensity\n",
    "biop_file = '/content/drive/MyDrive/ProteinCoronaPredict_PayneLab/Input_Data/BioPython/Combined_biopyCalcs.xlsx'\n",
    "nsp_file = '/content/drive/MyDrive/ProteinCoronaPredict_PayneLab/Input_Data/NetSurfP/Combined2.xlsx'\n",
    "np_file = '/content/drive/MyDrive/ProteinCoronaPredict_PayneLab/Input_Data/Nanoparticles/NP_Database_BovOnly_v5.xlsx'"
   ]
  },
  {
   "cell_type": "markdown",
   "metadata": {
    "id": "fsJ4dChTTPo-"
   },
   "source": [
    "Read in Excel files in specified paths"
   ]
  },
  {
   "cell_type": "code",
   "execution_count": 5,
   "metadata": {
    "executionInfo": {
     "elapsed": 82854,
     "status": "ok",
     "timestamp": 1742997355871,
     "user": {
      "displayName": "Nicole",
      "userId": "15751869298741229715"
     },
     "user_tz": 240
    },
    "id": "IAe3dBKoTLGD"
   },
   "outputs": [],
   "source": [
    "controls = pd.read_excel(controls_file, header=0)\n",
    "\n",
    "biop_data = pd.read_excel(biop_file, header=0)\n",
    "biop_data.drop_duplicates(subset=['Entry'], inplace=True)\n",
    "\n",
    "nsp_data = pd.read_excel(nsp_file)\n",
    "nsp_data.drop_duplicates(subset=['Entry'], inplace=True)\n",
    "\n",
    "np_data = pd.read_excel(np_file, header=0)"
   ]
  },
  {
   "cell_type": "markdown",
   "metadata": {
    "id": "BW7j356ySqPd"
   },
   "source": [
    "Data Merging\n",
    "---"
   ]
  },
  {
   "cell_type": "code",
   "execution_count": null,
   "metadata": {
    "colab": {
     "base_uri": "https://localhost:8080/"
    },
    "executionInfo": {
     "elapsed": 13459,
     "status": "ok",
     "timestamp": 1742997369338,
     "user": {
      "displayName": "Nicole",
      "userId": "15751869298741229715"
     },
     "user_tz": 240
    },
    "id": "Ygrf2C7-Ssq9",
    "outputId": "86124600-4f8e-484c-b475-c767c0aae260"
   },
   "outputs": [
    {
     "name": "stdout",
     "output_type": "stream",
     "text": [
      "Bov_Swiss_Intensity _original.xlsx\n",
      "done\n"
     ]
    }
   ],
   "source": [
    "for prot_file in abund_files:\n",
    "  print(prot_file)\n",
    "  name = prot_file[:-4]\n",
    "  \n",
    "  prot_file = data_dir + prot_file\n",
    "\n",
    "\n",
    "  raw_MS_data = pd.read_excel(prot_file, header=0)\n",
    "\n",
    "\n",
    "  raw_MS_data.drop(columns=['prot','prot2','MW'], inplace=True)\n",
    "  raw_MS_data = pd.melt(raw_MS_data, id_vars=['Entry'], var_name='Sample_num', value_name='Abundance')\n",
    "\n",
    "  raw_MS_data.dropna(inplace=True)\n",
    "\n",
    "  #Add abundance controls to the merged MS data\n",
    "  MS_data_controls = pd.merge(raw_MS_data, controls, how='left', on='Entry')\n",
    "\n",
    "  #Merge NetSurfP features and BioPython features\n",
    "  raw_prop_data = pd.merge(MS_data_controls, biop_data, how='left', on='Entry')\n",
    "  protein_data_complete = pd.merge(raw_prop_data, nsp_data, how='left', on='Entry')\n",
    "\n",
    "  #Fill missing data with zeros\n",
    "  protein_data_complete.fillna(0, inplace=True)\n",
    "\n",
    "  #Add NP and wet lab experimental data\n",
    "  protein_data_complete['Sample_num']=protein_data_complete['Sample_num'].astype(str)\n",
    "  np_data[\"Sample_num\"] = np_data[\"Sample_num\"].astype(str)\n",
    "  data_complete = pd.merge(protein_data_complete, np_data, how='inner', on='Sample_num')\n",
    "  data_complete.fillna(0, inplace=True)\n",
    "\n",
    "\n",
    "  #Columns to remove\n",
    "  #From NetSurfP, remove 'exposed' entries and keep 'Exposed_exposed' only\n",
    "  to_drop = data_complete.filter(like='total_exposed_')\n",
    "  data_complete.drop(columns=to_drop, inplace=True)\n",
    "\n",
    "  columns_to_drop = [\"flexibility_var\",\"flexibility_median\",\"rsa_median\",\"Ligands\",\"Surface_Ligand\",\"Shaken\",\"ProteinID\",\"Protein Source\",\"Temperature\",\n",
    "                        \"notes\", \"Notes\", \"Core Material\", \"Incubation Time (minutes)\", \"Ligands\", \"NPID\", \"Sequence\", \"Raw_FileID\", \"BatchID\", ] \n",
    "\n",
    "  columns_to_drop = [col for col in columns_to_drop if col in data_complete.columns]\n",
    "  data_complete.drop(columns=columns_to_drop, inplace=True)\n",
    "\n",
    "  #Shuffle data to improve randomization of DataFrame\n",
    "  data_complete = data_complete.sample(frac=1, random_state=42)\n",
    "\n",
    "  #Save as Excel file\n",
    "  # CHANGE TO YOUR NAME CONVENTION\n",
    "  name_specific = 'v1'\n",
    "  filename = f'/content/drive/MyDrive/ProteinCoronaPredict_PayneLab/Input_DataFrames/df_Bov Swiss Intensity_{name_specific}.xlsx'\n",
    "  data_complete.to_excel(filename, index=False)\n",
    "  print('done')\n"
   ]
  },
  {
   "cell_type": "markdown",
   "metadata": {
    "id": "ueBpjL1OdamT"
   },
   "source": [
    "The above file(s) is/are the ones that go directly into RFR and RFC Colab notebooks."
   ]
  }
 ],
 "metadata": {
  "colab": {
   "provenance": []
  },
  "kernelspec": {
   "display_name": "Python 3",
   "name": "python3"
  },
  "language_info": {
   "name": "python"
  }
 },
 "nbformat": 4,
 "nbformat_minor": 0
}
